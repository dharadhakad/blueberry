{
 "cells": [
  {
   "cell_type": "code",
   "execution_count": 1,
   "id": "7c98f21e",
   "metadata": {},
   "outputs": [
    {
     "name": "stderr",
     "output_type": "stream",
     "text": [
      "Matplotlib is building the font cache; this may take a moment.\n"
     ]
    }
   ],
   "source": [
    "#Importing required packages.\n",
    "import pandas as pd\n",
    "import numpy as np\n",
    "import seaborn as sns\n",
    "import matplotlib.pyplot as plt"
   ]
  },
  {
   "cell_type": "code",
   "execution_count": 2,
   "id": "4cde2688",
   "metadata": {},
   "outputs": [],
   "source": [
    "#Loading dataset\n",
    "blueberry = pd.read_csv('WildBlueberryPollinationSimulationData.csv')"
   ]
  },
  {
   "cell_type": "code",
   "execution_count": 3,
   "id": "ebc5021e",
   "metadata": {},
   "outputs": [
    {
     "data": {
      "text/html": [
       "<div>\n",
       "<style scoped>\n",
       "    .dataframe tbody tr th:only-of-type {\n",
       "        vertical-align: middle;\n",
       "    }\n",
       "\n",
       "    .dataframe tbody tr th {\n",
       "        vertical-align: top;\n",
       "    }\n",
       "\n",
       "    .dataframe thead th {\n",
       "        text-align: right;\n",
       "    }\n",
       "</style>\n",
       "<table border=\"1\" class=\"dataframe\">\n",
       "  <thead>\n",
       "    <tr style=\"text-align: right;\">\n",
       "      <th></th>\n",
       "      <th>Row#</th>\n",
       "      <th>clonesize</th>\n",
       "      <th>honeybee</th>\n",
       "      <th>bumbles</th>\n",
       "      <th>andrena</th>\n",
       "      <th>osmia</th>\n",
       "      <th>MaxOfUpperTRange</th>\n",
       "      <th>MinOfUpperTRange</th>\n",
       "      <th>AverageOfUpperTRange</th>\n",
       "      <th>MaxOfLowerTRange</th>\n",
       "      <th>MinOfLowerTRange</th>\n",
       "      <th>AverageOfLowerTRange</th>\n",
       "      <th>RainingDays</th>\n",
       "      <th>AverageRainingDays</th>\n",
       "      <th>fruitset</th>\n",
       "      <th>fruitmass</th>\n",
       "      <th>seeds</th>\n",
       "      <th>yield</th>\n",
       "    </tr>\n",
       "  </thead>\n",
       "  <tbody>\n",
       "    <tr>\n",
       "      <th>0</th>\n",
       "      <td>0</td>\n",
       "      <td>37.5</td>\n",
       "      <td>0.75</td>\n",
       "      <td>0.25</td>\n",
       "      <td>0.25</td>\n",
       "      <td>0.25</td>\n",
       "      <td>86.0</td>\n",
       "      <td>52.0</td>\n",
       "      <td>71.9</td>\n",
       "      <td>62.0</td>\n",
       "      <td>30.0</td>\n",
       "      <td>50.8</td>\n",
       "      <td>16.0</td>\n",
       "      <td>0.26</td>\n",
       "      <td>0.410652</td>\n",
       "      <td>0.408159</td>\n",
       "      <td>31.678898</td>\n",
       "      <td>3813.165795</td>\n",
       "    </tr>\n",
       "    <tr>\n",
       "      <th>1</th>\n",
       "      <td>1</td>\n",
       "      <td>37.5</td>\n",
       "      <td>0.75</td>\n",
       "      <td>0.25</td>\n",
       "      <td>0.25</td>\n",
       "      <td>0.25</td>\n",
       "      <td>86.0</td>\n",
       "      <td>52.0</td>\n",
       "      <td>71.9</td>\n",
       "      <td>62.0</td>\n",
       "      <td>30.0</td>\n",
       "      <td>50.8</td>\n",
       "      <td>1.0</td>\n",
       "      <td>0.10</td>\n",
       "      <td>0.444254</td>\n",
       "      <td>0.425458</td>\n",
       "      <td>33.449385</td>\n",
       "      <td>4947.605663</td>\n",
       "    </tr>\n",
       "    <tr>\n",
       "      <th>2</th>\n",
       "      <td>2</td>\n",
       "      <td>37.5</td>\n",
       "      <td>0.75</td>\n",
       "      <td>0.25</td>\n",
       "      <td>0.25</td>\n",
       "      <td>0.25</td>\n",
       "      <td>94.6</td>\n",
       "      <td>57.2</td>\n",
       "      <td>79.0</td>\n",
       "      <td>68.2</td>\n",
       "      <td>33.0</td>\n",
       "      <td>55.9</td>\n",
       "      <td>16.0</td>\n",
       "      <td>0.26</td>\n",
       "      <td>0.383787</td>\n",
       "      <td>0.399172</td>\n",
       "      <td>30.546306</td>\n",
       "      <td>3866.798965</td>\n",
       "    </tr>\n",
       "    <tr>\n",
       "      <th>3</th>\n",
       "      <td>3</td>\n",
       "      <td>37.5</td>\n",
       "      <td>0.75</td>\n",
       "      <td>0.25</td>\n",
       "      <td>0.25</td>\n",
       "      <td>0.25</td>\n",
       "      <td>94.6</td>\n",
       "      <td>57.2</td>\n",
       "      <td>79.0</td>\n",
       "      <td>68.2</td>\n",
       "      <td>33.0</td>\n",
       "      <td>55.9</td>\n",
       "      <td>1.0</td>\n",
       "      <td>0.10</td>\n",
       "      <td>0.407564</td>\n",
       "      <td>0.408789</td>\n",
       "      <td>31.562586</td>\n",
       "      <td>4303.943030</td>\n",
       "    </tr>\n",
       "    <tr>\n",
       "      <th>4</th>\n",
       "      <td>4</td>\n",
       "      <td>37.5</td>\n",
       "      <td>0.75</td>\n",
       "      <td>0.25</td>\n",
       "      <td>0.25</td>\n",
       "      <td>0.25</td>\n",
       "      <td>86.0</td>\n",
       "      <td>52.0</td>\n",
       "      <td>71.9</td>\n",
       "      <td>62.0</td>\n",
       "      <td>30.0</td>\n",
       "      <td>50.8</td>\n",
       "      <td>24.0</td>\n",
       "      <td>0.39</td>\n",
       "      <td>0.354413</td>\n",
       "      <td>0.382703</td>\n",
       "      <td>28.873714</td>\n",
       "      <td>3436.493543</td>\n",
       "    </tr>\n",
       "  </tbody>\n",
       "</table>\n",
       "</div>"
      ],
      "text/plain": [
       "   Row#  clonesize  honeybee  bumbles  andrena  osmia  MaxOfUpperTRange  \\\n",
       "0     0       37.5      0.75     0.25     0.25   0.25              86.0   \n",
       "1     1       37.5      0.75     0.25     0.25   0.25              86.0   \n",
       "2     2       37.5      0.75     0.25     0.25   0.25              94.6   \n",
       "3     3       37.5      0.75     0.25     0.25   0.25              94.6   \n",
       "4     4       37.5      0.75     0.25     0.25   0.25              86.0   \n",
       "\n",
       "   MinOfUpperTRange  AverageOfUpperTRange  MaxOfLowerTRange  MinOfLowerTRange  \\\n",
       "0              52.0                  71.9              62.0              30.0   \n",
       "1              52.0                  71.9              62.0              30.0   \n",
       "2              57.2                  79.0              68.2              33.0   \n",
       "3              57.2                  79.0              68.2              33.0   \n",
       "4              52.0                  71.9              62.0              30.0   \n",
       "\n",
       "   AverageOfLowerTRange  RainingDays  AverageRainingDays  fruitset  fruitmass  \\\n",
       "0                  50.8         16.0                0.26  0.410652   0.408159   \n",
       "1                  50.8          1.0                0.10  0.444254   0.425458   \n",
       "2                  55.9         16.0                0.26  0.383787   0.399172   \n",
       "3                  55.9          1.0                0.10  0.407564   0.408789   \n",
       "4                  50.8         24.0                0.39  0.354413   0.382703   \n",
       "\n",
       "       seeds        yield  \n",
       "0  31.678898  3813.165795  \n",
       "1  33.449385  4947.605663  \n",
       "2  30.546306  3866.798965  \n",
       "3  31.562586  4303.943030  \n",
       "4  28.873714  3436.493543  "
      ]
     },
     "execution_count": 3,
     "metadata": {},
     "output_type": "execute_result"
    }
   ],
   "source": [
    "#Let's check how the data is distributed\n",
    "blueberry.head()"
   ]
  },
  {
   "cell_type": "code",
   "execution_count": 4,
   "id": "9504ade8",
   "metadata": {},
   "outputs": [
    {
     "data": {
      "text/plain": [
       "Row#                    int64\n",
       "clonesize               int32\n",
       "honeybee                int32\n",
       "bumbles                 int32\n",
       "andrena                 int32\n",
       "osmia                   int32\n",
       "MaxOfUpperTRange        int32\n",
       "MinOfUpperTRange        int32\n",
       "AverageOfUpperTRange    int32\n",
       "MaxOfLowerTRange        int32\n",
       "MinOfLowerTRange        int32\n",
       "AverageOfLowerTRange    int32\n",
       "RainingDays             int32\n",
       "AverageRainingDays      int32\n",
       "fruitset                int32\n",
       "fruitmass               int32\n",
       "seeds                   int32\n",
       "yield                   int32\n",
       "dtype: object"
      ]
     },
     "metadata": {},
     "output_type": "display_data"
    }
   ],
   "source": [
    "blueberry['clonesize']=blueberry['clonesize'].astype(int)\n",
    "blueberry['honeybee']=blueberry['honeybee'].astype(int)\n",
    "blueberry['bumbles']=blueberry['bumbles'].astype(int)\n",
    "blueberry['andrena']=blueberry['andrena'].astype(int)\n",
    "blueberry['osmia']=blueberry['osmia'].astype(int)\n",
    "blueberry['MaxOfUpperTRange']=blueberry['MaxOfUpperTRange'].astype(int)\n",
    "blueberry['MinOfUpperTRange']=blueberry['MinOfUpperTRange'].astype(int)\n",
    "blueberry['AverageOfUpperTRange']=blueberry['AverageOfUpperTRange'].astype(int)\n",
    "blueberry['MaxOfLowerTRange']=blueberry['MaxOfLowerTRange'].astype(int)\n",
    "blueberry['MinOfLowerTRange']=blueberry['MinOfLowerTRange'].astype(int)\n",
    "blueberry['AverageOfLowerTRange']=blueberry['AverageOfLowerTRange'].astype(int)\n",
    "blueberry['RainingDays']=blueberry['RainingDays'].astype(int)\n",
    "blueberry['AverageRainingDays']=blueberry['AverageRainingDays'].astype(int)\n",
    "blueberry['fruitset']=blueberry['fruitset'].astype(int)\n",
    "blueberry['fruitmass']=blueberry['fruitmass'].astype(int)\n",
    "blueberry['seeds']=blueberry['seeds'].astype(int)\n",
    "blueberry['yield']=blueberry['yield'].astype(int)\n",
    "display(blueberry.dtypes)"
   ]
  },
  {
   "cell_type": "code",
   "execution_count": 5,
   "id": "0b45cc16",
   "metadata": {},
   "outputs": [],
   "source": [
    "from sklearn.model_selection import train_test_split"
   ]
  },
  {
   "cell_type": "code",
   "execution_count": 6,
   "id": "7aec8553",
   "metadata": {},
   "outputs": [],
   "source": [
    "x=blueberry.drop('yield',axis=1)\n",
    "y=blueberry['yield']"
   ]
  },
  {
   "cell_type": "code",
   "execution_count": 7,
   "id": "443992bb",
   "metadata": {},
   "outputs": [],
   "source": [
    "#Train and Test splitting of data \n",
    "x_train, x_test, y_train, y_test = train_test_split(x, y, test_size = 0.2, random_state = 1, shuffle=True)"
   ]
  },
  {
   "cell_type": "code",
   "execution_count": 8,
   "id": "a1dd73c9",
   "metadata": {},
   "outputs": [],
   "source": [
    "from sklearn.linear_model import LinearRegression as LR\n",
    "lre = LR(normalize=True)\n",
    "lre.fit(x_train, y_train)\n",
    "y_pred_lr = lre.predict(x_test)"
   ]
  },
  {
   "cell_type": "code",
   "execution_count": 11,
   "id": "878786e6",
   "metadata": {},
   "outputs": [
    {
     "data": {
      "text/plain": [
       "['linearregression.joblib']"
      ]
     },
     "execution_count": 11,
     "metadata": {},
     "output_type": "execute_result"
    }
   ],
   "source": [
    "import joblib\n",
    "joblib.dump(lre,'linearregression.joblib')"
   ]
  },
  {
   "cell_type": "code",
   "execution_count": null,
   "id": "afd014b1",
   "metadata": {},
   "outputs": [],
   "source": []
  }
 ],
 "metadata": {
  "kernelspec": {
   "display_name": "Python 3",
   "language": "python",
   "name": "python3"
  },
  "language_info": {
   "codemirror_mode": {
    "name": "ipython",
    "version": 3
   },
   "file_extension": ".py",
   "mimetype": "text/x-python",
   "name": "python",
   "nbconvert_exporter": "python",
   "pygments_lexer": "ipython3",
   "version": "3.9.5"
  }
 },
 "nbformat": 4,
 "nbformat_minor": 5
}
